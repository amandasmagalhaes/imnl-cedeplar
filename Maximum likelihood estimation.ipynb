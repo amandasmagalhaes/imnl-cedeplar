{
  "nbformat": 4,
  "nbformat_minor": 0,
  "metadata": {
    "colab": {
      "name": "Maximum likelihood estimation.ipynb",
      "provenance": [],
      "authorship_tag": "ABX9TyPWXGR3Z0kKgaVJFXMw0o4Z",
      "include_colab_link": true
    },
    "kernelspec": {
      "name": "python3",
      "display_name": "Python 3"
    },
    "language_info": {
      "name": "python"
    }
  },
  "cells": [
    {
      "cell_type": "markdown",
      "metadata": {
        "id": "view-in-github",
        "colab_type": "text"
      },
      "source": [
        "<a href=\"https://colab.research.google.com/github/amandasmagalhaes/imnl-cedeplar/blob/main/Maximum%20likelihood%20estimation.ipynb\" target=\"_parent\"><img src=\"https://colab.research.google.com/assets/colab-badge.svg\" alt=\"Open In Colab\"/></a>"
      ]
    },
    {
      "cell_type": "code",
      "metadata": {
        "id": "uLf2bTINzR0o"
      },
      "source": [
        "# rmagic: Magic command interface for interactive work with R via rpy2\n",
        "#%load_ext rpy2.ipython\n",
        "%reload_ext rpy2.ipython\n",
        "\n",
        "import matplotlib.pyplot as plt\n",
        "from IPython.display import Image"
      ],
      "execution_count": null,
      "outputs": []
    },
    {
      "cell_type": "markdown",
      "metadata": {
        "id": "MuX9AwRRRxSa"
      },
      "source": [
        "___"
      ]
    },
    {
      "cell_type": "markdown",
      "metadata": {
        "id": "Yx4FH9BG2NGj"
      },
      "source": [
        "# **Estimativa de máxima verossimilhança do zero**\n",
        "\n",
        "### **Estimativas de máxima verossimilhança de uma distribuição**"
      ]
    },
    {
      "cell_type": "markdown",
      "metadata": {
        "id": "Q9wdPC78GsAg"
      },
      "source": [
        "Estimativa de máxima verossimilhança (MLE) é um método para estimar os parâmetros de uma população aleatória dada uma amostra.  \n",
        "\n",
        "Antes de podermos examinar o MLE, primeiro precisamos **entender a diferença entre probabilidade e densidade de probabilidade para variáveis ​​contínuas**.  \n",
        "  \n",
        "A **densidade de probabilidade** pode ser vista como uma medida de probabilidade relativa, ou seja, **valores localizados em áreas com maior probabilidade obterão maior densidade de probabilidade**.  \n",
        "Mais precisamente, a probabilidade é a integral da densidade de probabilidade em um intervalo.  \n",
        "Por exemplo, **a curva clássica \"em forma de sino\" associada à distribuição normal é uma medida de densidade de probabilidade, enquanto a probabilidade corresponde à área sob a curva para um determinado intervalo de valores**:"
      ]
    },
    {
      "cell_type": "code",
      "metadata": {
        "colab": {
          "base_uri": "https://localhost:8080/",
          "height": 497
        },
        "id": "94l1r77sDeGt",
        "outputId": "84a5154a-14c8-437e-cf93-f51ed41f3e5d"
      },
      "source": [
        "%matplotlib inline\n",
        "Image('https://alemorales.info/post/04_mle_nonlinear_files/figure-html/unnamed-chunk-2-1.png', retina = True)"
      ],
      "execution_count": null,
      "outputs": [
        {
          "output_type": "execute_result",
          "data": {
            "image/png": "[encoded data removed]",
            "text/plain": [
              "<IPython.core.display.Image object>"
            ]
          },
          "metadata": {
            "tags": [],
            "image/png": {
              "width": 672,
              "height": 480
            }
          },
          "execution_count": 2
        }
      ]
    },
    {
      "cell_type": "markdown",
      "metadata": {
        "id": "1aNnXz7rLYrQ"
      },
      "source": [
        "Se atribuirmos um modelo estatístico à população aleatória, qualquer valor particular amostrado da população terá uma densidade de probabilidade de acordo com o modelo.  \n",
        "Se então assumirmos que todos os valores em nossa amostra são estatisticamente independentes (ou seja, a probabilidade de amostrar um valor particular não depende do resto dos valores já amostrados), então a probabilidade de observar toda a amostra é definido como o produto das densidades de probabilidade dos valores individuais.  \n",
        "\n",
        "A ideia por trás do MLE é **encontrar os valores dos parâmetros no modelo estatístico que maximizam o valor**. Em outras palavras, **ele calcula a população aleatória que tem maior probabilidade de gerar os dados observados, embora seja restrita a um determinado tipo de distribuição**.  \n",
        "\n",
        "Uma complicação do método MLE é que, como as densidades de probabilidade são frequentemente menores do que 1, o valor pode tornar-se muito pequeno à medida que o tamanho da amostra aumenta. Por exemplo, a probabilidade de 100 valores amostrados de uma distribuição normal padrão é muito pequena:"
      ]
    },
    {
      "cell_type": "code",
      "metadata": {
        "id": "K59mVL2lzfFJ",
        "colab": {
          "base_uri": "https://localhost:8080/"
        },
        "outputId": "258ecb22-8d32-48fe-ebb5-08b5cc745228"
      },
      "source": [
        "%%R\n",
        "\n",
        "set.seed(2019)\n",
        "sample = rnorm(100)\n",
        "prod(dnorm(sample))"
      ],
      "execution_count": null,
      "outputs": [
        {
          "output_type": "stream",
          "text": [
            "[1] 2.23626e-58\n"
          ],
          "name": "stdout"
        }
      ]
    },
    {
      "cell_type": "markdown",
      "metadata": {
        "id": "ffrSNMOxbTX5"
      },
      "source": [
        "**Quando a variância da distribuição é pequena, também é possível ter densidades de probabilidade maiores que um.**  \n",
        "**Nesse caso, a função de verossimilhança aumentará para valores muito grandes.** Por exemplo, para uma distribuição normal com desvio padrão de 0,1, obtemos:"
      ]
    },
    {
      "cell_type": "code",
      "metadata": {
        "colab": {
          "base_uri": "https://localhost:8080/"
        },
        "id": "Q5StGq8cbcyI",
        "outputId": "eb115ed0-1581-4b22-dadf-c8cb322be678"
      },
      "source": [
        "%%R\n",
        "\n",
        "sample_large = rnorm(100, sd = 0.1)\n",
        "prod(dnorm(sample_large, sd = 0.1))"
      ],
      "execution_count": null,
      "outputs": [
        {
          "output_type": "stream",
          "text": [
            "[1] 2.741535e+38\n"
          ],
          "name": "stdout"
        }
      ]
    },
    {
      "cell_type": "markdown",
      "metadata": {
        "id": "u3sVgTN9b4Xg"
      },
      "source": [
        "A razão pela qual isso é um problema é que os computadores têm uma capacidade limitada de armazenar os dígitos de um número, portanto, eles não podem armazenar números muito grandes ou muito pequenos.  \n",
        "Se você repetir o código acima, mas usando tamanhos de amostra de, digamos, 1000, você obterá *0* ou *Inf* vez dos valores reais, porque seu computador simplesmente desistirá."
      ]
    },
    {
      "cell_type": "code",
      "metadata": {
        "colab": {
          "base_uri": "https://localhost:8080/"
        },
        "id": "hNptG6LBcOie",
        "outputId": "40d30df9-e32b-4938-8d47-856bccfe32fe"
      },
      "source": [
        "%%R\n",
        "\n",
        "sample_large = rnorm(1000, sd = 0.1)\n",
        "prod(dnorm(sample_large, sd = 0.1))"
      ],
      "execution_count": null,
      "outputs": [
        {
          "output_type": "stream",
          "text": [
            "[1] Inf\n"
          ],
          "name": "stdout"
        }
      ]
    },
    {
      "cell_type": "markdown",
      "metadata": {
        "id": "qSXeOkodcR_R"
      },
      "source": [
        "Embora seja possível aumentar a quantidade de dígitos a serem armazenados por número, isso não resolve realmente o problema, pois ele eventualmente retornará com amostras maiores.  \n",
        "Além disso, na maioria dos casos, precisaremos usar algoritmos de otimização numérica, o que tornará o problema ainda pior. Portanto, não podemos trabalhar diretamente com a função de verossimilhança.  \n",
        "\n",
        "**Um truque é usar o logaritmo natural da função de verossimilhança.**  \n",
        "Uma boa propriedade é que o logaritmo de um produto de valores é a soma dos logaritmos desses valores.  \n",
        "\n",
        "Além disso, os valores de log-verossimilhança sempre estarão mais próximos de 1 e o máximo ocorre para os mesmos valores de parâmetro que para a verossimilhança. Por exemplo, a probabilidade da primeira amostra gerada acima é:"
      ]
    },
    {
      "cell_type": "code",
      "metadata": {
        "colab": {
          "base_uri": "https://localhost:8080/",
          "height": 497
        },
        "id": "gkDFws-Ag_1g",
        "outputId": "c69c9d3c-af13-4bc6-a33e-e04de9c928c9"
      },
      "source": [
        "%matplotlib inline\n",
        "Image('https://alemorales.info/post/04_mle_nonlinear_files/figure-html/unnamed-chunk-5-1.png', retina = True)"
      ],
      "execution_count": null,
      "outputs": [
        {
          "output_type": "execute_result",
          "data": {
            "image/png": "[encoded data removed]",
            "text/plain": [
              "<IPython.core.display.Image object>"
            ]
          },
          "metadata": {
            "tags": [],
            "image/png": {
              "width": 672,
              "height": 480
            }
          },
          "execution_count": 6
        }
      ]
    },
    {
      "cell_type": "markdown",
      "metadata": {
        "id": "MhsKSdLJiV7U"
      },
      "source": [
        "enquanto para a probabilidade logarítmica torna-se:"
      ]
    },
    {
      "cell_type": "code",
      "metadata": {
        "colab": {
          "base_uri": "https://localhost:8080/",
          "height": 497
        },
        "id": "xwRVFLTijRYr",
        "outputId": "dac903cf-4640-458c-ce91-6e5dec213e0f"
      },
      "source": [
        "%matplotlib inline\n",
        "Image('https://alemorales.info/post/04_mle_nonlinear_files/figure-html/unnamed-chunk-6-1.png', retina = True)"
      ],
      "execution_count": null,
      "outputs": [
        {
          "output_type": "execute_result",
          "data": {
            "image/png": "[encoded data removed]",
            "text/plain": [
              "<IPython.core.display.Image object>"
            ]
          },
          "metadata": {
            "tags": [],
            "image/png": {
              "width": 672,
              "height": 480
            }
          },
          "execution_count": 7
        }
      ]
    },
    {
      "cell_type": "markdown",
      "metadata": {
        "id": "2xA6DMwzjxQ3"
      },
      "source": [
        "**Embora as formas das curvas sejam diferentes, o máximo ocorre para o mesmo valor de µ.**  \n",
        "Observe que não há nada de especial no logaritmo natural: poderíamos ter tomado o logaritmo com base 10 ou qualquer outra base.  \n",
        "Mas é comum usar o logaritmo natural, pois algumas funções importantes de densidade de probabilidade são funções exponenciais (por exemplo, a distribuição Normal), portanto, tomar o logaritmo natural torna as análises matemáticas mais fáceis.  \n",
        "\n",
        "**Você deve ter notado que o valor ideal de µ não era exatamente 0, embora os dados fossem gerados a partir de uma distribuição normal com µ= 0. Esta é a razão pela qual é chamado de estimador de máxima verossimilhança.**  \n",
        "A fonte desse desvio é que a amostra não é uma representação perfeita da população, justamente pela aleatoriedade do procedimento de amostragem.  \n",
        "**Uma boa propriedade do MLE é que, geralmente, o estimador convergirá assintoticamente para o valor verdadeiro na população (ou seja, conforme o tamanho da amostra aumenta, a diferença entre a estimativa e o valor verdadeiro diminui).**  \n",
        "\n",
        "O último detalhe técnico que você precisa saber é que, exceto para modelos triviais, o método MLE não pode ser aplicado analiticamente.  \n",
        "Uma opção é tentar uma sequência de valores e procurar aquele que produz a probabilidade de log máxima (isso é conhecido como abordagem de grade).  \n",
        "No entanto, se houver muitos parâmetros a serem estimados, essa abordagem será muito ineficiente. Por exemplo, se tentarmos apenas 20 valores por parâmetro e tivermos 5 parâmetros, precisaremos testar 3,2 milhões de combinações.  \n",
        "\n",
        "\n",
        "Em vez disso, o método MLE é geralmente aplicado usando algoritmos conhecidos como otimizadores não lineares.  \n",
        "Você pode alimentar esses algoritmos com qualquer função que tome números como entradas e retorne um número como saída e eles calcularão os valores de entrada que minimizam ou maximizam a saída.  \n",
        "Realmente não importa o quão complexa ou simples seja a função, pois eles a tratarão como uma caixa preta.  \n",
        "Por convenção, os otimizadores não lineares minimizarão a função e, em alguns casos, não temos a opção de dizer a eles para maximizá-la. Portanto, a convenção é minimizar a probabilidade de log negativo (NLL).  \n",
        "\n",
        "Vamos estimar os valores de µ (média) e σ (desvio padrão) da primeira amostra que geramos acima.  \n",
        "Primeiro, precisamos criar uma função para calcular o NLL.  \n",
        "É uma boa prática seguir alguns modelos para gerar essas funções.  \n",
        "Uma função NLL deve receber duas entradas: (i) **um vetor de valores de parâmetros que o algoritmo de otimização deseja testar** (pars) e (ii) **os data para o qual o NLL é calculado**. Para o problema de estimar µ e σ, a função se parece com isto:"
      ]
    },
    {
      "cell_type": "code",
      "metadata": {
        "id": "q6X-navZjabw"
      },
      "source": [
        "%%R\n",
        "\n",
        "NLL = function(pars, data) {\n",
        "  # Extract parameters from the vector\n",
        "  mu = pars[1]\n",
        "  sigma = pars[2]\n",
        "  # Calculate Negative Log-LIkelihood\n",
        "  -sum(dnorm(x = data, mean = mu, sd = sigma, log = TRUE))\n",
        "}"
      ],
      "execution_count": null,
      "outputs": []
    },
    {
      "cell_type": "markdown",
      "metadata": {
        "id": "i7lW-ZOzmsq4"
      },
      "source": [
        "A função *dnorm* retorna a densidade de probabilidade dos dados assumindo uma distribuição normal com a média e o desvio padrão fornecidos (mean e sd).  \n",
        "O argumento log = TRUE diz ao R para calcular o logaritmo da densidade de probabilidade.  \n",
        "Em seguida, precisamos apenas somar todos esses valores (o que produz o log da verossimilhança) e trocar o sinal para obter o NLL.\n",
        "\n",
        "Agora podemos minimizar o NLL usando a função *optim*. Essa função precisa dos valores iniciais para cada parâmetro (par), a função que calcula o NLL (fn) e os argumentos que serão passados ​​para a função objetivo (em nosso exemplo, será data).  \n",
        "Também podemos ajustar algumas configurações com o argumento *control*.  \n",
        "Eu recomendo definir a configuração *parscale* para os valores iniciais absolutos (assumindo que nenhum dos valores iniciais seja 0).  \n",
        "Essa configuração determina a escala dos valores que você espera para cada parâmetro e ajuda o algoritmo a encontrar a solução certa.  \n",
        "A optimfunção retornará um objeto que contém todas as informações relevantes e, para extrair os valores ideais para os parâmetros, você precisa acessar o campo *par*:"
      ]
    },
    {
      "cell_type": "code",
      "metadata": {
        "colab": {
          "base_uri": "https://localhost:8080/"
        },
        "id": "99yOEGRqnYuz",
        "outputId": "164dad3f-307b-4ae2-ac32-655ac7dc3ace"
      },
      "source": [
        "%%R\n",
        "\n",
        "mle = optim(par = c(mu = 0.2, sigma = 1.5), fn = NLL, data = sample,\n",
        "            control = list(parscale = c(mu = 0.2, sigma = 1.5)))\n",
        "mle$par"
      ],
      "execution_count": null,
      "outputs": [
        {
          "output_type": "stream",
          "text": [
            "         mu       sigma \n",
            "-0.07332745  0.90086176 \n"
          ],
          "name": "stdout"
        }
      ]
    },
    {
      "cell_type": "markdown",
      "metadata": {
        "id": "61yb8ed7ngah"
      },
      "source": [
        "Acontece que este problema tem uma solução analítica, de modo que os valores de MLE para µ e σ  da distribuição normal também pode ser calculado diretamente como:"
      ]
    },
    {
      "cell_type": "code",
      "metadata": {
        "colab": {
          "base_uri": "https://localhost:8080/"
        },
        "id": "FbWhKXcRnmCW",
        "outputId": "4594e95b-0690-40f4-8c95-abfef14269b6"
      },
      "source": [
        "%%R\n",
        "\n",
        "c(mu = mean(sample), sigma = sd(sample))"
      ],
      "execution_count": null,
      "outputs": [
        {
          "output_type": "stream",
          "text": [
            "        mu      sigma \n",
            "-0.0733340  0.9054535 \n"
          ],
          "name": "stdout"
        }
      ]
    },
    {
      "cell_type": "markdown",
      "metadata": {
        "id": "iT_TEx_QnxUb"
      },
      "source": [
        "Sempre há um pouco de erro numérico na hora de usar o *optim*, mas encontrou valores muito próximos aos analíticos.  \n",
        "Leve em consideração que muitos problemas de MLE não podem ser resolvidos analiticamente, portanto, em geral, você precisará usar a otimização numérica."
      ]
    },
    {
      "cell_type": "markdown",
      "metadata": {
        "id": "ttEM6xf3oR_f"
      },
      "source": [
        "### **MLE aplicado a um modelo científico**  \n",
        "\n",
        "Neste caso, temos um modelo científico que descreve um fenômeno particular e queremos estimar os parâmetros desse modelo a partir dos dados usando o método MLE. Como exemplo, usaremos uma curva de crescimento típica em ecologia vegetal.\n",
        "\n",
        "Vamos imaginar que fizemos uma série de visitas a um campo de cultivo durante sua estação de cultivo. Em cada visita, registramos os dias desde que a safra foi semeada e a fração da área do solo que é coberta pelas plantas.  \n",
        "Isso é conhecido como cobertura do solo (G) e pode variar de 0 (sem plantas presentes) a 1 (campo totalmente coberto por plantas). Um exemplo de tais dados seria o seguinte:"
      ]
    },
    {
      "cell_type": "code",
      "metadata": {
        "colab": {
          "base_uri": "https://localhost:8080/",
          "height": 497
        },
        "id": "MmJ7GVssoh3S",
        "outputId": "8d458b88-6ffe-44a7-994a-2a9b5a8a05a3"
      },
      "source": [
        "%%R\n",
        "\n",
        "data = data.frame(t = c(0, 16, 22, 29, 36, 58),\n",
        "                  G = c(0, 0.12, 0.32, 0.6, 0.79, 1))\n",
        "plot(data, las = 1, xlab = \"Days after sowing\", ylab = \"Ground cover\")"
      ],
      "execution_count": null,
      "outputs": [
        {
          "output_type": "display_data",
          "data": {
            "image/png": "[encoded data removed]"
          },
          "metadata": {
            "tags": []
          }
        }
      ]
    },
    {
      "cell_type": "markdown",
      "metadata": {
        "id": "3jkYiOH0owu0"
      },
      "source": [
        "Nossa primeira intuição seria usar a função clássica de crescimento logístico para descrever esses dados. No entanto, esta função não garante que G é 0 em t = 0. Portanto, vamos usar uma versão modificada da função logística que garante G = 0 no t = 0."
      ]
    },
    {
      "cell_type": "code",
      "metadata": {
        "id": "wDK10PI8ouIr"
      },
      "source": [
        "%%R\n",
        "\n",
        "G = function(pars, t) {\n",
        "  # Extract parameters of the model\n",
        "  Gmax = pars[1]\n",
        "  k = pars[2]\n",
        "  th = pars[3]\n",
        "  # Prediction of the model\n",
        "  DG = Gmax/(1 - 1/(1 + exp(k*th)))\n",
        "  Go = DG/(1 + exp(k*th))\n",
        "  DG/(1 + exp(-k*(t - th))) - Go\n",
        "}"
      ],
      "execution_count": null,
      "outputs": []
    },
    {
      "cell_type": "markdown",
      "metadata": {
        "id": "eotjnrGGqFNQ"
      },
      "source": [
        "Observe que, em vez de passar os 3 parâmetros da curva como argumentos separados, eu os empacotei em um vetor chamado *pars*. Isso segue o mesmo modelo da função NLL.\n",
        "\n",
        "Os algoritmos de otimização não linear sempre requerem alguns valores iniciais para os parâmetros que estão sendo otimizados. Para modelos simples como este, podemos apenas experimentar diferentes valores e representá-los no topo dos dados. Isso é o que eu consegui depois de algumas tentativas:"
      ]
    },
    {
      "cell_type": "code",
      "metadata": {
        "colab": {
          "base_uri": "https://localhost:8080/",
          "height": 497
        },
        "id": "L4dag6dxqXID",
        "outputId": "315c5d04-13b0-4938-9826-d73cf0b83cc7"
      },
      "source": [
        "%%R\n",
        "\n",
        "plot(data, las = 1, xlab = \"Days after sowing\", ylab = \"Ground cover\")\n",
        "curve(G(c(Gmax = 1, k = 0.15, th = 30), x), 0, 60, add = TRUE)"
      ],
      "execution_count": null,
      "outputs": [
        {
          "output_type": "display_data",
          "data": {
            "image/png": "[encoded data removed]"
          },
          "metadata": {
            "tags": []
          }
        }
      ]
    },
    {
      "cell_type": "markdown",
      "metadata": {
        "id": "IgycSK8qqdLh"
      },
      "source": [
        "Se quisermos estimar os valores de acordo com o método MLE, precisamos construir uma função em R que calcule o NLL dado um modelo estatístico e uma escolha de valores de parâmetro.  \n",
        "Isso significa que precisamos decidir sobre uma distribuição para representar os desvios entre o modelo e os dados.  \n",
        "A maneira canônica de fazer isso é assumir uma distribuição normal, onde µ é calculado pelo modelo científico de interesse, permitindo σ representam o grau de dispersão dos dados em torno da tendência média.  \n",
        "Para manter as coisas simples, vou seguir essa abordagem agora.  \n",
        "A função NLL é semelhante à anterior, mas agora a média está definida para as previsões do modelo:"
      ]
    },
    {
      "cell_type": "code",
      "metadata": {
        "id": "G6fXQ5E1qqLE"
      },
      "source": [
        "%%R\n",
        "\n",
        "NLL = function(pars, data) {\n",
        "  # Values predicted by the model\n",
        "  Gpred = G(pars, data$t)\n",
        "  # Negative log-likelihood \n",
        "  -sum(dnorm(x = data$G, mean = Gpred, sd = pars[4], log = TRUE))\n",
        "}"
      ],
      "execution_count": null,
      "outputs": []
    },
    {
      "cell_type": "markdown",
      "metadata": {
        "id": "Xyr7QcSHqvP3"
      },
      "source": [
        "Agora podemos calcular os valores ideais usando *optime* os valores iniciais \"observados\" (é claro, também precisamos ter uma estimativa inicial para σ):"
      ]
    },
    {
      "cell_type": "code",
      "metadata": {
        "colab": {
          "base_uri": "https://localhost:8080/"
        },
        "id": "K2rpVBtRq0jc",
        "outputId": "89fb7ae1-fc97-4f8b-e141-d8498dced839"
      },
      "source": [
        "%%R\n",
        "\n",
        "par0 = c(Gmax = 1.0, k = 0.15, th = 30, sd = 0.01)\n",
        "fit = optim(par = par0, fn = NLL, data = data, control = list(parscale = abs(par0)), \n",
        "            hessian = TRUE)\n",
        "fit$par"
      ],
      "execution_count": null,
      "outputs": [
        {
          "output_type": "stream",
          "text": [
            "       Gmax           k          th          sd \n",
            " 0.99926603  0.15879585 26.70700004  0.01482376 \n"
          ],
          "name": "stdout"
        }
      ]
    },
    {
      "cell_type": "markdown",
      "metadata": {
        "id": "e9-uyb3iq5Z7"
      },
      "source": [
        "Observe que observar os valores iniciais já nos aproximou da solução ótima.  \n",
        "Claro, para modelos complicados, suas estimativas iniciais não serão tão boas, mas sempre vale a pena brincar com o modelo antes de ir para a otimização.  \n",
        "Finalmente, podemos comparar as previsões do modelo com os dados:"
      ]
    },
    {
      "cell_type": "code",
      "metadata": {
        "colab": {
          "base_uri": "https://localhost:8080/",
          "height": 497
        },
        "id": "sUy0Gbv8rCyL",
        "outputId": "4862be57-b672-4b1f-8f1a-213f8b58bcc4"
      },
      "source": [
        "%%R\n",
        "\n",
        "plot(data, las = 1, xlab = \"Days after sowing\", ylab = \"Ground cover\")\n",
        "curve(G(fit$par, x), 0, 60, add = TRUE)"
      ],
      "execution_count": null,
      "outputs": [
        {
          "output_type": "display_data",
          "data": {
            "image/png": "[encoded data removed]"
          },
          "metadata": {
            "tags": []
          }
        }
      ]
    },
    {
      "cell_type": "markdown",
      "metadata": {
        "id": "d_F8NjXHrKQX"
      },
      "source": [
        "### **Considerações finais**\n",
        "\n",
        "O modelo acima poderia ter sido ajustada utilizando o método de mínimos quadrados (OLS) com a função R *nls*. Na verdade, a menos que algo dê errado na otimização, você deve obter os mesmos resultados do método descrito aqui.  \n",
        "**A razão é que OLS é equivalente a MLE com uma distribuição normal e desvio padrão constante.** No entanto, acredito que vale a pena aprender MLE porque:\n",
        "\n",
        "* Você não precisa se restringir à distribuição Normal. Em alguns casos (por exemplo, ao modelar dados de contagem), não faz sentido assumir uma distribuição Normal. Na verdade, no modelo de cobertura do solo, uma vez que os valores de G são restritos a estar entre 0 e 1, teria sido mais correto usar outra distribuição, como a distribuição Beta (no entanto, para esses dados em particular, você obterá resultados muito semelhantes, então decidi manter as coisas simples e familiares).  \n",
        "\n",
        "* Você não precisa se limitar a modelar apenas a média da distribuição. Por exemplo, se você tem motivos para acreditar que os erros não têm uma variação constante, você também pode modelar o σ parâmetro da distribuição normal. Ou seja, você pode modelar qualquer parâmetro de qualquer distribuição.  \n",
        "\n",
        "* Se você entender o MLE, será muito mais fácil entender métodos mais avançados, como probabilidade penalizada (também conhecida como regressão regularizada) e abordagens bayesianas, já que também são baseadas no conceito de probabilidade.  \n",
        "\n",
        "* Você pode combinar o NLL de vários conjuntos de dados dentro da função NLL, enquanto nos mínimos quadrados ordinários, se você quiser combinar dados de diferentes experimentos, você deve corrigir para diferentes escalas ou unidades de medida e para diferenças na magnitude dos erros de seu modelo faz para conjuntos de dados diferentes.  \n",
        "\n",
        "* Muitos métodos de seleção de modelo (os chamados critérios de informação , como AIC) são baseados em MLE.  \n",
        "\n",
        "* Usar uma função para calcular NLL permite que você trabalhe com qualquer modelo (contanto que você possa calcular uma densidade de probabilidade) e conjunto de dados, mas não tenho certeza de que isso seja possível ou conveniente com a interface da fórmula nls (por exemplo, combinar vários conjuntos de dados não é fácil ao usar uma interface de fórmula).  "
      ]
    },
    {
      "cell_type": "markdown",
      "metadata": {
        "id": "k42N69P_jdZq"
      },
      "source": [
        "## **Referência**\n",
        "\n",
        "> [Estimativa de máxima verossimilhança do zero](https://alemorales.info/post/mle-nonlinear/)"
      ]
    },
    {
      "cell_type": "markdown",
      "metadata": {
        "id": "iD_00-UaRidE"
      },
      "source": [
        "___"
      ]
    },
    {
      "cell_type": "markdown",
      "metadata": {
        "id": "rrKsCZE1RplX"
      },
      "source": [
        "# **Videoaulas: Estimativa de Máxima Verossimilhança**\n",
        "\n",
        "### **Introdução**  \n",
        "\n",
        "A Estimativa de Máxima Verossimilhança (MLE) é um método de estimar os parâmetros de um modelo. Este método de estimativa é um dos mais amplamente utilizados.\n",
        "\n",
        "**O método de máxima verossimilhança seleciona o conjunto de valores dos parâmetros do modelo que maximiza a função de verossimilhança. Intituitivamente, isso maximiza a 'concordância' do modelo selecionado com os dados observados.**\n",
        "\n",
        "A estimativa de probabilidade Meximum fornece uma abordagem unificada para a estimativa.\n",
        "\n",
        "\n",
        "Quais são as principais propriedades do estimador de máxima verossimilhança?\n",
        "* É assintoticamente imparcial?\n",
        "* É assintoticamente eficiente? Sob qual(is) condição(ões)?\n",
        "* É consistente?\n",
        "* Qual é a distribuição assintótica?\n",
        "\n",
        "Como aplicar o princípio de máxima verossimilhança ao modelo de regressão linear múltipla, aos modelos Probit / Logit, etc?"
      ]
    },
    {
      "cell_type": "markdown",
      "metadata": {
        "id": "6lIRxvxGcw9b"
      },
      "source": [
        "### **O princípio da máxima verossimilhança**"
      ]
    },
    {
      "cell_type": "code",
      "metadata": {
        "id": "A4kHSjnASkte"
      },
      "source": [
        "%%R # My_first_likelihood.R\n",
        "\n",
        "# Sample\n",
        "#set.seed(2021)\n",
        "#x <- rpois(10, 2)\n",
        "x <- c(5, 0, 1, 1, 0, 3, 2, 3, 4, 1)"
      ],
      "execution_count": null,
      "outputs": []
    },
    {
      "cell_type": "code",
      "metadata": {
        "id": "8wF3ArKCdHDQ"
      },
      "source": [
        "%%R\n",
        "\n",
        "# Sample size\n",
        "N <- length(x)"
      ],
      "execution_count": null,
      "outputs": []
    },
    {
      "cell_type": "code",
      "metadata": {
        "id": "X5Xxp0AGeOm3"
      },
      "source": [
        "%%R\n",
        "\n",
        "# Potential values of lambda\n",
        "theta <- seq(from=0, to=4, by=0.01)"
      ],
      "execution_count": null,
      "outputs": []
    },
    {
      "cell_type": "code",
      "metadata": {
        "id": "SvtrkqTzeReg"
      },
      "source": [
        "%%R\n",
        "\n",
        "# Likelihood function by command\n",
        "Ln1 <- rep(NA, times = length(theta))\n",
        "for (i in 1:length(theta)){\n",
        "  Ln1[i] <- prod(dpois(x, lambda = theta[i]))\n",
        "}"
      ],
      "execution_count": null,
      "outputs": []
    },
    {
      "cell_type": "code",
      "metadata": {
        "id": "D38vrPoPeUYl"
      },
      "source": [
        "%%R\n",
        "\n",
        "# Pedestrian approach\n",
        "Ln2 <- exp(-theta*N)*(theta^sum(x))/prod(factorial(x))"
      ],
      "execution_count": null,
      "outputs": []
    },
    {
      "cell_type": "code",
      "metadata": {
        "colab": {
          "base_uri": "https://localhost:8080/",
          "height": 497
        },
        "id": "hw5N_b-heXFi",
        "outputId": "75969c83-9a1c-4783-dac6-8f5ea3c35a71"
      },
      "source": [
        "%%R\n",
        "\n",
        "# Plotting the likelihood function\n",
        "par(mfrow=c(1,2),\n",
        "    mgp=c(2,1,0))\n",
        "\n",
        "plot(x=theta, y=Ln1, col=\"white\",\n",
        "     xlab=expression(theta),ylab=\"Verossimilhança\",\n",
        "     main=substitute(paste(\"Verossimilhança da Amostra de Poisson (\",\n",
        "                           Ln[1], \")\", sep=\"\")),\n",
        "     cex.main=0.8, cex.lab=0.8)\n",
        "lines(x=theta, y=Ln1, col=\"blue\", lwd=2)\n",
        "segments(x0=2,y0=0,x1=2,y1=max(Ln1), col=\"red\", lwd=2)\n",
        "\n",
        "plot(x=theta, y=Ln2, col=\"white\",\n",
        "     xlab=expression(theta),ylab=\"Verossimilhança\",\n",
        "     main=substitute(paste(\"Verossimilhança da Amostra de Poisson (\",\n",
        "                           Ln[2], \")\", sep=\"\")),\n",
        "     cex.main=0.8, cex.lab=0.8)\n",
        "lines(x=theta, y=Ln2, col=\"blue\", lwd=2)\n",
        "segments(x0=2,y0=0,x1=2,y1=max(Ln2), col=\"red\", lwd=2)"
      ],
      "execution_count": null,
      "outputs": [
        {
          "output_type": "display_data",
          "data": {
            "image/png": "[encoded data removed]"
          },
          "metadata": {
            "tags": []
          }
        }
      ]
    },
    {
      "cell_type": "markdown",
      "metadata": {
        "id": "7sBUnE6bkyP4"
      },
      "source": [
        "Considere maximizar a função de verossimilhança em relação a teta.  \n",
        "Como a função de log está aumentando monotonicamente, geralmente maximizamos.\n",
        "\n",
        "\n",
        "**Variáveis contínuas**  \n",
        "Função densidade probabilidade (pdf) da distribuição marginal de X.  \n",
        "Não consigo calcular a densidade por ponto."
      ]
    },
    {
      "cell_type": "markdown",
      "metadata": {
        "id": "KaLULPfDkyAX"
      },
      "source": [
        "### **A função de verossimilhança: definições e notações**\n",
        "\n",
        "\n",
        "Observação: a função log-verossimilhança depende de dois tipos de argumentos:\n",
        "* Amostra (realização): x1, x2, ..., xN\n",
        "* Uma estimativa do parâmetro: vetor y  \n",
        "\n",
        "Função de log-verossimilhança: Ln (y; x1, ..., xn) = prod f (xi; y)  \n",
        "\n",
        "\n",
        "Observação: Dado este princípio, podemos derivar as funções de verossimilhança (condicional) e log-verossimilhança associadas a uma amostra específica para qualquer tipo de modelo econométrico em que a distribuição condicional da variável dependente seja conhecida.\n",
        "* Modelos dicotômicos: modelos probit, logit etc.\n",
        "* Modelos de regressão censurados: Tobit etc.\n",
        "* Modelos de séries temporais: AR, ARMA, VAR etc.\n",
        "* Modelos GARCH.\n",
        "* ...\n",
        "\n",
        "Em um modelo probit, denota o cdf da distribuição normal padrão.  \n",
        "Em um modelo logit, denota o cdf da distribuição logística.\n",
        "\n",
        "**Conceitos chave**\n",
        "* Função de verossimilhança (de uma amostra)\n",
        "* Função de log-verossimilhança (de uma amostra)\n",
        "* Verossimilhança condicional e função de verossimilhança logarítmica\n",
        "* Probabilidade e probabilidade de log de uma observação"
      ]
    },
    {
      "cell_type": "markdown",
      "metadata": {
        "id": "meallF3CkxqZ"
      },
      "source": [
        "### **MScore, Hessian and Fisher Information**\n",
        "\n"
      ]
    },
    {
      "cell_type": "code",
      "metadata": {
        "id": "NWpKYLrjigfJ"
      },
      "source": [
        "%%R # Simulating_Fisher_Information.R\n",
        "\n",
        "# Sample\n",
        "set.seed(2021)\n",
        "s1 <- rnorm(100,0,1)\n",
        "s2 <- rnorm(100,0,10)"
      ],
      "execution_count": null,
      "outputs": []
    },
    {
      "cell_type": "code",
      "metadata": {
        "id": "pI7q4ZNLJcb-"
      },
      "source": [
        "%%R\n",
        "\n",
        "# Sample size\n",
        "N <- length(s1)"
      ],
      "execution_count": null,
      "outputs": []
    },
    {
      "cell_type": "code",
      "metadata": {
        "id": "b0r316OOJejV"
      },
      "source": [
        "%%R\n",
        "\n",
        "# Potential values of mu\n",
        "mu <- seq(from=-5, to=4.99, by=0.01)"
      ],
      "execution_count": null,
      "outputs": []
    },
    {
      "cell_type": "code",
      "metadata": {
        "id": "4orF7wJmJhzo"
      },
      "source": [
        "%%R\n",
        "\n",
        "# Likelihood function by command\n",
        "Ln <- list()\n",
        "Ln[[1]] <- rep(NA, times = length(mu))\n",
        "Ln[[2]] <- rep(NA, times = length(mu))\n",
        "\n",
        "for (i in 1:length(mu)){\n",
        "    Ln[[1]][i] <- prod(dnorm(s1, mean = mu[i], sd = 1))\n",
        "    Ln[[2]][i] <- prod(dnorm(s2, mean = mu[i], sd = 10))\n",
        "}"
      ],
      "execution_count": null,
      "outputs": []
    },
    {
      "cell_type": "code",
      "metadata": {
        "colab": {
          "base_uri": "https://localhost:8080/",
          "height": 497
        },
        "id": "ynJgIj9YJo33",
        "outputId": "04ac90cf-a009-4d64-b02a-8d9f511251ca"
      },
      "source": [
        "%%R\n",
        "\n",
        "# Plotting the likelihood function\n",
        "par(mfrow=c(1,2),\n",
        "    mgp=c(2,1,0))\n",
        "plot(x=mu, y=Ln[[1]], col=\"white\",\n",
        "     xlab=expression(mu),ylab=\"Verossimilhança\",\n",
        "     main=substitute(paste(\"Verossimilhança da Amostra da Normal (\",\n",
        "                           Ln[1], \")\", sep=\"\")),\n",
        "     cex.main=0.8, cex.lab=0.8)\n",
        "lines(x=mu, y=Ln[[1]], col=\"blue\", lwd=2)\n",
        "segments(x0=mu[which.max(Ln[[1]])],y0=0,x1=mu[which.max(Ln[[1]])],y1=max(Ln[[1]]), col=\"red\", lwd=2)\n",
        "\n",
        "plot(x=mu, y=Ln[[2]], col=\"white\",\n",
        "     xlab=expression(mu),ylab=\"Verossimilhança\",\n",
        "     main=substitute(paste(\"Verossimilhança da Amostra da Normal (\",\n",
        "                           Ln[2], \")\", sep=\"\")),\n",
        "     cex.main=0.8, cex.lab=0.8)\n",
        "lines(x=mu, y=Ln[[2]], col=\"blue\", lwd=2)\n",
        "segments(x0=mu[which.max(Ln[[2]])],y0=0,x1=mu[which.max(Ln[[2]])],y1=max(Ln[[2]]), col=\"red\", lwd=2)"
      ],
      "execution_count": null,
      "outputs": [
        {
          "output_type": "display_data",
          "data": {
            "image/png": "[encoded data removed]"
          },
          "metadata": {
            "tags": []
          }
        }
      ]
    },
    {
      "cell_type": "code",
      "metadata": {
        "colab": {
          "base_uri": "https://localhost:8080/",
          "height": 497
        },
        "id": "8VzbxfFoJtSn",
        "outputId": "0ddc5c5e-5d0b-4c5e-e0bc-4c284480bba7"
      },
      "source": [
        "%%R # Verossimilhança\n",
        "\n",
        "\n",
        "# Amostra com variância elevada relativo a média\n",
        "\n",
        "set.seed(2021) # Semente aleatória\n",
        "\n",
        "sample_L = rnorm(n=100,mean=0,sd=1) # Amostra aleatória simples de uma N(0,1)\n",
        "\n",
        "plot(density(sample_L)) # Densidade da uma amostra sob normalidade"
      ],
      "execution_count": null,
      "outputs": [
        {
          "output_type": "display_data",
          "data": {
            "image/png": "[encoded data removed]"
          },
          "metadata": {
            "tags": []
          }
        }
      ]
    },
    {
      "cell_type": "code",
      "metadata": {
        "colab": {
          "base_uri": "https://localhost:8080/"
        },
        "id": "gtFOq1PdKOuF",
        "outputId": "a13ccb21-435e-4a61-bf77-2e0e55351c22"
      },
      "source": [
        "%%R\n",
        "\n",
        "summary(dnorm(x=sample_L,mean=0,sd=1)) # Valores da densidade são < 1"
      ],
      "execution_count": null,
      "outputs": [
        {
          "output_type": "stream",
          "text": [
            "   Min. 1st Qu.  Median    Mean 3rd Qu.    Max. \n",
            "0.03132 0.14392 0.30554 0.27048 0.38267 0.39890 \n"
          ],
          "name": "stdout"
        }
      ]
    },
    {
      "cell_type": "code",
      "metadata": {
        "colab": {
          "base_uri": "https://localhost:8080/"
        },
        "id": "cr8XkcsbKWTs",
        "outputId": "95bb2a92-b29d-49d5-82c9-f275c351af3a"
      },
      "source": [
        "%%R\n",
        "\n",
        "prod(dnorm(x=sample_L,mean=0,sd=1)) # Verossimilhança da amostra"
      ],
      "execution_count": null,
      "outputs": [
        {
          "output_type": "stream",
          "text": [
            "[1] 4.829896e-64\n"
          ],
          "name": "stdout"
        }
      ]
    },
    {
      "cell_type": "code",
      "metadata": {
        "colab": {
          "base_uri": "https://localhost:8080/",
          "height": 497
        },
        "id": "URq4r1fKKXl4",
        "outputId": "43d951f6-34b9-4c43-b1b2-d79fe7b2f691"
      },
      "source": [
        "%%R\n",
        "\n",
        "# Amostra com variância pequena relativo a média\n",
        "\n",
        "set.seed(2021) # Semente aleatória\n",
        "\n",
        "sample_S = rnorm(n=100,mean=0,sd=0.1) # Amostra aleatória simples de uma N(0, 0.1)\n",
        "\n",
        "plot(density(sample_S)) # Densidade da uma amostra sob normalidade"
      ],
      "execution_count": null,
      "outputs": [
        {
          "output_type": "display_data",
          "data": {
            "image/png": "[encoded data removed]"
          },
          "metadata": {
            "tags": []
          }
        }
      ]
    },
    {
      "cell_type": "code",
      "metadata": {
        "colab": {
          "base_uri": "https://localhost:8080/"
        },
        "id": "UsVa7-6TKoys",
        "outputId": "a76fc7a6-bd27-4cc9-df05-ff7fa8c2e302"
      },
      "source": [
        "%%R\n",
        "\n",
        "summary(dnorm(x=sample_S,mean=0,sd=0.1)) # Valores da densidade podem ser > 1"
      ],
      "execution_count": null,
      "outputs": [
        {
          "output_type": "stream",
          "text": [
            "   Min. 1st Qu.  Median    Mean 3rd Qu.    Max. \n",
            " 0.3132  1.4392  3.0554  2.7048  3.8267  3.9890 \n"
          ],
          "name": "stdout"
        }
      ]
    },
    {
      "cell_type": "code",
      "metadata": {
        "colab": {
          "base_uri": "https://localhost:8080/"
        },
        "id": "wZksE-HwKxPJ",
        "outputId": "38428833-f70d-44d6-8531-56c562dac6ca"
      },
      "source": [
        "%%R\n",
        "\n",
        "prod(dnorm(sample_S,mean=0,sd=0.1)) # Verossimilhança da amostra"
      ],
      "execution_count": null,
      "outputs": [
        {
          "output_type": "stream",
          "text": [
            "[1] 4.829896e+36\n"
          ],
          "name": "stdout"
        }
      ]
    },
    {
      "cell_type": "code",
      "metadata": {
        "colab": {
          "base_uri": "https://localhost:8080/"
        },
        "id": "RnDOGepkKzZT",
        "outputId": "31c7ce1c-26ec-454f-b72b-4f62a22e7374"
      },
      "source": [
        "%%R\n",
        "\n",
        "# Esses dois casos impõem dificuldades computacionais de armazenamentos \n",
        "# de valores muito pequenos (quando variância é grande) ou muito grandes\n",
        "# (quando a variância é pequena) para a Verossimilhança da amostra.\n",
        "# Vamos aumentar agora o tamanho da amostra\n",
        "options(digits=22, scipen=999)\n",
        "set.seed(2021)\n",
        "for(i in c(10,100,1000,10000)){\n",
        "  sample_small=rnorm(n=i,mean=0,sd=0.1)\n",
        "  print(paste(\"n = \", i, \" -> \", prod(dnorm(sample_small,mean=0,sd=0.1)), sep=\"\"))\n",
        "}\n",
        "set.seed(2021)\n",
        "for(i in c(10,100,1000,10000)){\n",
        "  sample_large=rnorm(n=i,mean=0,sd=1)\n",
        "  print(paste(\"n = \", i, \" -> \", prod(dnorm(sample_large,mean=0,sd=1)), sep=\"\"))\n",
        "}"
      ],
      "execution_count": null,
      "outputs": [
        {
          "output_type": "stream",
          "text": [
            "[1] \"n = 10 -> 11494.9518651507\"\n",
            "[1] \"n = 100 -> 2970700907538456413717750182957809664\"\n",
            "[1] \"n = 1000 -> Inf\"\n",
            "[1] \"n = 10000 -> Inf\"\n",
            "[1] \"n = 10 -> 0.00000114949518651507\"\n",
            "[1] \"n = 100 -> 0.000000000000000000000000000000000000000000000000000000000000000297070090753846\"\n",
            "[1] \"n = 1000 -> 0\"\n",
            "[1] \"n = 10000 -> 0\"\n"
          ],
          "name": "stdout"
        }
      ]
    },
    {
      "cell_type": "code",
      "metadata": {
        "colab": {
          "base_uri": "https://localhost:8080/"
        },
        "id": "eKXDn69_K6Q-",
        "outputId": "78dc349b-3156-4b5d-f419-f91c0c7ab15e"
      },
      "source": [
        "%%R\n",
        "\n",
        "# Solução: usar o log da verossimilhança\n",
        "NLL = function(pars, data) {\n",
        "  # Extrai parâmetros do vetor de dados\n",
        "  mu = pars[1]\n",
        "  sigma = pars[2]\n",
        "  # Calcula o Logaritmo da Verossimilhança (Log-LIkelihood) negativo\n",
        "  -sum(dnorm(x = data, mean = mu, sd = sigma, log = TRUE))\n",
        "}\n",
        "\n",
        "NLL(pars=c(0,1),sample_large)"
      ],
      "execution_count": null,
      "outputs": [
        {
          "output_type": "stream",
          "text": [
            "[1] 14229.53796257172507467\n"
          ],
          "name": "stdout"
        }
      ]
    },
    {
      "cell_type": "code",
      "metadata": {
        "colab": {
          "base_uri": "https://localhost:8080/"
        },
        "id": "MuVE2LPQK_46",
        "outputId": "e48aa616-5e92-46db-fc00-0def1efe9b19"
      },
      "source": [
        "%%R\n",
        "\n",
        "NLL(pars=c(0,0.1),sample_small)"
      ],
      "execution_count": null,
      "outputs": [
        {
          "output_type": "stream",
          "text": [
            "[1] -8796.312967368729005102\n"
          ],
          "name": "stdout"
        }
      ]
    },
    {
      "cell_type": "code",
      "metadata": {
        "colab": {
          "base_uri": "https://localhost:8080/",
          "height": 497
        },
        "id": "DUME5n5wLD26",
        "outputId": "b48e54dc-0549-48b1-de58-7723ec87627a"
      },
      "source": [
        "%%R\n",
        "\n",
        "# Vantagens do logLik:\n",
        "# valores da verossimilhança ficam mais próximos de 1\n",
        "# produtório vira um problema de somatório\n",
        "# a função atinge seu máximo para os mesmos valores dos parâmetros\n",
        "\n",
        "# Fixando sigma e variando mu:\n",
        "LogLik_large=vector(length=101)\n",
        "for(i in seq(-0.5,0.5,by=0.01)){\n",
        "  LogLik_large[which(seq(-0.5,0.5,by=0.01) == i)] <- NLL(pars=c(i,1),sample_L)*(-1)\n",
        "}\n",
        "plot(x=seq(-0.5,0.5,by=0.01),\n",
        "     y=LogLik_large,\n",
        "     type=\"l\")\n",
        "abline(v=seq(-0.5,0.5,by=0.01)[which.max(LogLik_large)],\n",
        "       col=\"red\", lwd=2)"
      ],
      "execution_count": null,
      "outputs": [
        {
          "output_type": "display_data",
          "data": {
            "image/png": "[encoded data removed]"
          },
          "metadata": {
            "tags": []
          }
        }
      ]
    },
    {
      "cell_type": "code",
      "metadata": {
        "colab": {
          "base_uri": "https://localhost:8080/",
          "height": 497
        },
        "id": "5rV-efjzLP1D",
        "outputId": "ad1144d0-13c2-4118-b009-22581aa16f26"
      },
      "source": [
        "%%R\n",
        "\n",
        "LL = function(pars, data) {\n",
        "  # Extrai parâmetros do vetor de dados\n",
        "  mu = pars[1]\n",
        "  sigma = pars[2]\n",
        "  # Calcula o Logaritmo da Verossimilhança (Log-LIkelihood) negativo\n",
        "  prod(dnorm(x = data, mean = mu, sd = sigma))\n",
        "}\n",
        "\n",
        "Lik_large <- vector(length=101)\n",
        "for(i in seq(-0.5,0.5,by=0.01)){\n",
        "  Lik_large[which(seq(-0.5,0.5,by=0.01) == i)] <- LL(pars=c(i,1),sample_L)\n",
        "}\n",
        "\n",
        "plot(x=seq(-0.5,0.5,by=0.01),\n",
        "     y=Lik_large,\n",
        "     type=\"l\")\n",
        "abline(v=seq(-0.5,0.5,by=0.01)[which.max(Lik_large)],\n",
        "       col=\"red\", lwd=2)"
      ],
      "execution_count": null,
      "outputs": [
        {
          "output_type": "display_data",
          "data": {
            "image/png": "[encoded data removed]"
          },
          "metadata": {
            "tags": []
          }
        }
      ]
    },
    {
      "cell_type": "code",
      "metadata": {
        "colab": {
          "base_uri": "https://localhost:8080/",
          "height": 497
        },
        "id": "s2Yyj1esLT7u",
        "outputId": "b559a908-8c5f-4155-ba45-8a8e7d1f7a68"
      },
      "source": [
        "%%R\n",
        "\n",
        "par(mfrow=c(1,2))\n",
        "\n",
        "plot(x=seq(-0.5,0.5,by=0.01),\n",
        "     y=Lik_large,\n",
        "     type=\"l\",\n",
        "     main=\"Verossimilhança\")\n",
        "abline(v=seq(-0.5,0.5,by=0.01)[which.max(Lik_large)],\n",
        "       col=\"red\", lwd=2)\n",
        "\n",
        "plot(x=seq(-0.5,0.5,by=0.01),\n",
        "     y=LogLik_large,\n",
        "     type=\"l\",\n",
        "     main=\"Log-Verossimilhança\")\n",
        "abline(v=seq(-0.5,0.5,by=0.01)[which.max(LogLik_large)],\n",
        "       col=\"red\", lwd=2)"
      ],
      "execution_count": null,
      "outputs": [
        {
          "output_type": "display_data",
          "data": {
            "image/png": "[encoded data removed]"
          },
          "metadata": {
            "tags": []
          }
        }
      ]
    },
    {
      "cell_type": "code",
      "metadata": {
        "colab": {
          "base_uri": "https://localhost:8080/",
          "height": 497
        },
        "id": "PZCkmxxFLeMH",
        "outputId": "94747792-5c49-4e66-8df2-fea7f5a5a8e7"
      },
      "source": [
        "%%R\n",
        "\n",
        "# Vamos usar os gráficos agora, so que para amostras maiores\n",
        "LogLik_large_10k <- vector(length=101)\n",
        "for(i in seq(-0.5,0.5,by=0.01)){\n",
        "  LogLik_large_10k[which(seq(-0.5,0.5,by=0.01) == i)] <- NLL(pars=c(i,1),sample_large)*(-1)\n",
        "}\n",
        "\n",
        "Lik_large_10k <- vector(length=101)\n",
        "for(i in seq(-0.5,0.5,by=0.01)){\n",
        "  Lik_large_10k[which(seq(-0.5,0.5,by=0.01) == i)] <- LL(pars=c(i,1),sample_large)\n",
        "}\n",
        "\n",
        "options(scipen = 1)\n",
        "\n",
        "par(mfrow=c(2,2))\n",
        "\n",
        "plot(x=seq(-0.5,0.5,by=0.01),\n",
        "     y=Lik_large,\n",
        "     type=\"l\",\n",
        "     main=\"Verossimilhança - n = 100\")\n",
        "abline(v=seq(-0.5,0.5,by=0.01)[which.max(Lik_large)],\n",
        "       col=\"red\", lwd=2)\n",
        "plot(x=seq(-0.5,0.5,by=0.01),\n",
        "     y=LogLik_large,\n",
        "     type=\"l\",\n",
        "     main=\"Log-Verossimilhança - n = 100\")\n",
        "abline(v=seq(-0.5,0.5,by=0.01)[which.max(LogLik_large)],\n",
        "       col=\"red\", lwd=2)\n",
        "\n",
        "plot(x=seq(-0.5,0.5,by=0.01),\n",
        "     y=Lik_large_10k,\n",
        "     type=\"l\",\n",
        "     main=\"Verossimilhança - n = 10k\")\n",
        "abline(v=seq(-0.5,0.5,by=0.01)[which.max(Lik_large_10k)],\n",
        "       col=\"red\", lwd=2)\n",
        "plot(x=seq(-0.5,0.5,by=0.01),\n",
        "     y=LogLik_large_10k,\n",
        "     type=\"l\",\n",
        "     main=\"Log-Verossimilhança - n = 10k\")\n",
        "abline(v=seq(-0.5,0.5,by=0.01)[which.max(LogLik_large_10k)],\n",
        "       col=\"red\", lwd=2)"
      ],
      "execution_count": null,
      "outputs": [
        {
          "output_type": "display_data",
          "data": {
            "image/png": "[encoded data removed]"
          },
          "metadata": {
            "tags": []
          }
        }
      ]
    },
    {
      "cell_type": "code",
      "metadata": {
        "colab": {
          "base_uri": "https://localhost:8080/"
        },
        "id": "k7xCK3tYLpx0",
        "outputId": "d2f61879-e745-4f39-b031-7992d7b4af7d"
      },
      "source": [
        "%%R\n",
        "\n",
        "# Vamos agora solucionar isso como um exercício de otimização\n",
        "mle = optim(par = c(mu = 0.2, sigma = 1.5), fn = NLL, data = sample_L,\n",
        "            control = list(parscale = c(mu = 0.2, sigma = 1.5)))\n",
        "mle$par"
      ],
      "execution_count": null,
      "outputs": [
        {
          "output_type": "stream",
          "text": [
            "                      mu                    sigma \n",
            "-0.174781853810781429015  1.023222826931302176234 \n"
          ],
          "name": "stdout"
        }
      ]
    },
    {
      "cell_type": "code",
      "metadata": {
        "colab": {
          "base_uri": "https://localhost:8080/"
        },
        "id": "1manEEDRL4wo",
        "outputId": "84b82356-41e6-4e67-9e27-8a8825da3a42"
      },
      "source": [
        "%%R\n",
        "\n",
        "# Solucao analítica\n",
        "c(mu = mean(sample_L), sigma = sd(sample_L))"
      ],
      "execution_count": null,
      "outputs": [
        {
          "output_type": "stream",
          "text": [
            "                      mu                    sigma \n",
            "-0.174484404689306510372  1.028625908159627622140 \n"
          ],
          "name": "stdout"
        }
      ]
    },
    {
      "cell_type": "code",
      "metadata": {
        "colab": {
          "base_uri": "https://localhost:8080/",
          "height": 497
        },
        "id": "9SlRpK-KL8Zu",
        "outputId": "f959cb5d-28e3-4f29-c1fb-c76a7b8704ef"
      },
      "source": [
        "%%R\n",
        "\n",
        "# Máxima verossimilhança aplicada a modelos científicos\n",
        "data = data.frame(t = c(0, 16, 22, 29, 36, 58),\n",
        "                  G = c(0, 0.12, 0.32, 0.6, 0.79, 1))\n",
        "plot(data, las = 1, xlab = \"Days after sowing\", ylab = \"Ground cover\")"
      ],
      "execution_count": null,
      "outputs": [
        {
          "output_type": "display_data",
          "data": {
            "image/png": "[encoded data removed]"
          },
          "metadata": {
            "tags": []
          }
        }
      ]
    },
    {
      "cell_type": "code",
      "metadata": {
        "colab": {
          "base_uri": "https://localhost:8080/",
          "height": 497
        },
        "id": "lf_nJngkMAWt",
        "outputId": "159f0c99-dd16-4cb3-b9f5-3608671bb597"
      },
      "source": [
        "%%R\n",
        "\n",
        "G <- function(pars, t) {\n",
        "  # Extrai parâmetros do modelo\n",
        "  Gmax = pars[1]\n",
        "  k = pars[2]\n",
        "  th = pars[3]\n",
        "  # Calcula valores preditos pelo modelo\n",
        "  DG = Gmax/(1 - 1/(1 + exp(k*th)))\n",
        "  Go = DG/(1 + exp(k*th))\n",
        "  return(DG/(1 + exp(-k*(t-th)))-Go)\n",
        "}\n",
        "\n",
        "plot(data, las = 1, xlab = \"Days after sowing\", ylab = \"Ground cover\")\n",
        "curve(G(c(Gmax = 1, k = 0.15, th = 30), x), 0, 60, add = TRUE)"
      ],
      "execution_count": null,
      "outputs": [
        {
          "output_type": "display_data",
          "data": {
            "image/png": "[encoded data removed]"
          },
          "metadata": {
            "tags": []
          }
        }
      ]
    },
    {
      "cell_type": "code",
      "metadata": {
        "colab": {
          "base_uri": "https://localhost:8080/"
        },
        "id": "FBQnuSTCMDn2",
        "outputId": "27b9a990-ddf9-44a4-86b1-4a8db9a6b4d5"
      },
      "source": [
        "%%R\n",
        "\n",
        "NLL = function(pars, data) {\n",
        "  # A média agora é descrita pelos valores preditos pelo modelo\n",
        "  Gpred = G(pars, data$t) \n",
        "  # Calcula o Logaritmo da Verossimilhança (Log-LIkelihood) negativo\n",
        "  return(-sum(dnorm(x = data$G, mean = Gpred, sd = pars[4], log = TRUE)))\n",
        "}\n",
        "\n",
        "par0 = c(Gmax = 1.0, k = 0.15, th = 30, sd = 0.01) # definimos valores iniciais para a otimização\n",
        "fit = optim(par = par0, fn = NLL, data = data, \n",
        "            control = list(parscale = abs(par0)),hessian = TRUE)\n",
        "\n",
        "fit$par\n"
      ],
      "execution_count": null,
      "outputs": [
        {
          "output_type": "stream",
          "text": [
            "                      Gmax                          k \n",
            " 0.99926603094802934901253  0.15879585243724050891423 \n",
            "                        th                         sd \n",
            "26.70700003788776299984420  0.01482375896769921874707 \n"
          ],
          "name": "stdout"
        }
      ]
    },
    {
      "cell_type": "code",
      "metadata": {
        "colab": {
          "base_uri": "https://localhost:8080/",
          "height": 497
        },
        "id": "Fp2co85WMLFV",
        "outputId": "8882495f-6f1e-4642-ba65-a4eb8e5e59cc"
      },
      "source": [
        "%%R\n",
        "\n",
        "plot(data, las = 1, xlab = \"Days after sowing\", ylab = \"Ground cover\")\n",
        "curve(G(fit$par, x), 0, 60, add = TRUE)"
      ],
      "execution_count": null,
      "outputs": [
        {
          "output_type": "display_data",
          "data": {
            "image/png": "[encoded data removed]"
          },
          "metadata": {
            "tags": []
          }
        }
      ]
    },
    {
      "cell_type": "markdown",
      "metadata": {
        "id": "Dl2QOLYWNDhe"
      },
      "source": [
        "# **Referência Complementar: O que é uma função de verossimilhança?**\n",
        "\n",
        "Portanto, a função de verossimilhança é uma função normalmente usada para resumir os dados. Esta função carrega muitas informações sobre ela, e é por isso que normalmente fazemos a inferência usando-a (ideia de Fisher).\n",
        "\n",
        "Em resumo, a função de verossimilhança não é uma função de probabilidade e também não mede probabilidades, a função de verossimilhança mede quão realista é θ seja o verdadeiro parâmetro do pfd de X.  \n",
        "\n",
        "Podemos ter a mesma conclusão se usarmos o logaritmo da função de verossimilhança (função log-verossimilhança). Por esse motivo, procuramos estimativas de probabilidade, pois procuramos o valor mais plausível para esse conjunto de dados.\n",
        "\n",
        "**A função de verossimilhança é uma função do parâmetro e não dos dados.**\n",
        "\n",
        "## **Referência**\n",
        "\n",
        "\n",
        "> [O que é uma função de verossimilhança?](https://scpatricio.github.io/likelihood/)\n",
        "\n"
      ]
    }
  ]
}